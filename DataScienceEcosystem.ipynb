{
 "cells": [
  {
   "cell_type": "markdown",
   "id": "39b38222-14ae-4be0-89e6-0ce708b94c9f",
   "metadata": {},
   "source": [
    "# Data Science Tools and Ecosystem"
   ]
  },
  {
   "cell_type": "markdown",
   "id": "21fae4c9-0091-4c1a-94d0-a6645497d1eb",
   "metadata": {},
   "source": [
    "## In this notebook, Data Science Tools and Ecosystem are summarized."
   ]
  },
  {
   "cell_type": "markdown",
   "id": "1cf464f7-be31-42a5-b9c8-1bb3abdc0592",
   "metadata": {},
   "source": [
    "### Some of the popular languages that Data Scientists use are:  \n",
    "1. **Python**\n",
    "2. **R**\n",
    "3. **SQL**\n",
    "4. **SCALA**\n",
    "5. **JULIA**\n"
   ]
  },
  {
   "cell_type": "markdown",
   "id": "737bec03-4940-459c-ba1b-750a0e2a1607",
   "metadata": {},
   "source": [
    "### Some of the commonly used libraries used by Data Scientists include:\n",
    "1. **Pandas**\n",
    "2. **NumPy**\n",
    "3. **Scikit**\n",
    "4. **Matplotlib**\n",
    "5. **Tensorflow**\n"
   ]
  },
  {
   "cell_type": "markdown",
   "id": "7d512546-9fe8-4d65-8b8d-dc4eef7e2e6f",
   "metadata": {},
   "source": [
    "### Data Science Tools\n",
    "\n",
    "| Data Science Tools       |\n",
    "|--------------------------|\n",
    "| Jupyter Notebook|\n",
    "| RStudio |\n",
    "| Apache Spark |"
   ]
  },
  {
   "cell_type": "markdown",
   "id": "3a04dc7b-7cc8-431c-b1ca-cbcc93dc7ad4",
   "metadata": {},
   "source": [
    "### Below are a few examples of evaluating arithmetic expressions in Python.\n",
    "\n",
    "| arithmetic expressions  | For examples |\n",
    "|--------------------------|-----------------|\n",
    "| Addition|1+1|\n",
    "| Subtraction|1-1|\n",
    "| Multiplication|1*1|\n",
    "|Division|1/1|\n"
   ]
  },
  {
   "cell_type": "markdown",
   "id": "e7277cd4-3773-4474-8ec4-e3c7434328e9",
   "metadata": {},
   "source": [
    "### This a simple arithmetic expression to mutiply then add integers\n"
   ]
  },
  {
   "cell_type": "code",
   "execution_count": 6,
   "id": "62e8a5f5-1325-4a0c-8d01-696f234a6381",
   "metadata": {},
   "outputs": [
    {
     "data": {
      "text/plain": [
       "17"
      ]
     },
     "execution_count": 6,
     "metadata": {},
     "output_type": "execute_result"
    }
   ],
   "source": [
    "(3 * 4) + 5"
   ]
  },
  {
   "cell_type": "markdown",
   "id": "f8298111-5a6b-4a91-b9de-356e3ab18e67",
   "metadata": {},
   "source": [
    "### This will convert 200 minutes to hours by diving by 60."
   ]
  },
  {
   "cell_type": "code",
   "execution_count": 7,
   "id": "434e921e-d4f5-46c5-bde8-e6cb8f3de85b",
   "metadata": {},
   "outputs": [
    {
     "data": {
      "text/plain": [
       "3.3333333333333335"
      ]
     },
     "execution_count": 7,
     "metadata": {},
     "output_type": "execute_result"
    }
   ],
   "source": [
    "200/60 "
   ]
  },
  {
   "cell_type": "markdown",
   "id": "08197263-9032-4e00-846b-0afa9376f150",
   "metadata": {},
   "source": [
    "hours."
   ]
  },
  {
   "cell_type": "markdown",
   "id": "44d64140-2413-48a5-8c1d-291b58025a3e",
   "metadata": {},
   "source": [
    "**Objectives:**\n",
    "\n",
    "- List popular languages for Data Science\n",
    "- libraries in Data Science\n",
    "- Arithmetic operations in Python\n",
    "- Convert time units from minutes to hours\n",
    "- Learn GitHub"
   ]
  },
  {
   "cell_type": "markdown",
   "id": "9b8c4bd5-bdc5-438b-8cbd-5e4f729cb1d8",
   "metadata": {},
   "source": [
    "## Author\n",
    "Umbhorn "
   ]
  },
  {
   "cell_type": "code",
   "execution_count": null,
   "id": "ceb918a3-6919-4463-8527-bac835b4e53c",
   "metadata": {},
   "outputs": [],
   "source": []
  }
 ],
 "metadata": {
  "kernelspec": {
   "display_name": "Python 3 (ipykernel)",
   "language": "python",
   "name": "python3"
  },
  "language_info": {
   "codemirror_mode": {
    "name": "ipython",
    "version": 3
   },
   "file_extension": ".py",
   "mimetype": "text/x-python",
   "name": "python",
   "nbconvert_exporter": "python",
   "pygments_lexer": "ipython3",
   "version": "3.9.7"
  }
 },
 "nbformat": 4,
 "nbformat_minor": 5
}
